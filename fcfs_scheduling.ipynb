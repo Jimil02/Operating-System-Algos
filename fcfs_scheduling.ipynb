{
 "cells": [
  {
   "cell_type": "code",
   "execution_count": 14,
   "id": "d7fee5ad",
   "metadata": {},
   "outputs": [
    {
     "name": "stdout",
     "output_type": "stream",
     "text": [
      "FIRST COME FIRST SERVE SCHEDULLING\n",
      "Enter number of processes : 5\n",
      "Enter arrival time of process1: 1\n",
      "Enter burst time of process1: 10\n",
      "Enter arrival time of process2: 0\n",
      "Enter burst time of process2: 1\n",
      "Enter arrival time of process3: 0\n",
      "Enter burst time of process3: 2\n",
      "Enter arrival time of process4: 3\n",
      "Enter burst time of process4: 1\n",
      "Enter arrival time of process5: 2\n",
      "Enter burst time of process5: 5\n",
      "{'P1': [1, 10], 'P2': [0, 1], 'P3': [0, 2], 'P4': [3, 1], 'P5': [2, 5]}\n",
      "[('P2', [0, 1]), ('P3', [0, 2]), ('P1', [1, 10]), ('P5', [2, 5]), ('P4', [3, 1])]\n",
      "Process | Arrival | Burst | Exit | Turn Around | Wait |\n",
      "    P2    |    0  |     1  |     1   |     1   |    0    |  \n",
      "    P3    |    0  |     2  |     3   |     3   |    1    |  \n",
      "    P1    |    1  |     10  |     13   |     12   |    2    |  \n",
      "    P5    |    2  |     5  |     18   |     16   |    11    |  \n",
      "    P4    |    3  |     1  |     19   |     16   |    15    |  \n",
      "Average Waiting Time:  5.8\n"
     ]
    }
   ],
   "source": [
    "print(\"*********FIRST COME FIRST SERVE SCHEDULLING*********\")\n",
    "n= int(input(\"Enter number of processes : \"))\n",
    "d = dict()\n",
    " \n",
    "for i in range(n):\n",
    "    key = \"P\"+str(i+1)\n",
    "    a = int(input(\"Enter arrival time of process\"+str(i+1)+\": \"))\n",
    "    b = int(input(\"Enter burst time of process\"+str(i+1)+\": \"))\n",
    "    l = []\n",
    "    l.append(a)\n",
    "    l.append(b)\n",
    "    d[key] = l\n",
    "#print(d)\n",
    "d = sorted(d.items(), key=lambda item: item[1][0])\n",
    "#print(d)\n",
    "ET = []\n",
    "for i in range(len(d)):\n",
    "    # first process\n",
    "    if(i==0 and d[i][1][0]==0):\n",
    "        ET.append(d[i][1][1])\n",
    "    elif(i==0 and d[i][1][0]!=0):\n",
    "        ET.append(d[i][1][1]+d[i][1][0])\n",
    "    # get prevET + newBT\n",
    "    else:\n",
    "        if(ET[i-1]>=d[i][1][0]):\n",
    "            ET.append(ET[i-1] + d[i][1][1])\n",
    "        else:\n",
    "            y=d[i][1][0]-ET[i-1]\n",
    "            ET.append(y+ET[i-1] + d[i][1][1])\n",
    "\n",
    "TAT = []\n",
    "for i in range(len(d)):\n",
    "    TAT.append(ET[i] - d[i][1][0])\n",
    " \n",
    "WT = []\n",
    "for i in range(len(d)):\n",
    "    WT.append(TAT[i] - d[i][1][1])\n",
    " \n",
    "avg_WT = 0\n",
    "for i in WT:\n",
    "    avg_WT +=i\n",
    "avg_WT = (avg_WT/n)\n",
    " \n",
    "print(\"Process | Arrival | Burst | Exit | Turn Around | Wait |\")\n",
    "for i in range(n):\n",
    "      print(\"   \",d[i][0],\"   |   \",d[i][1][0],\" |    \",d[i][1][1],\" |    \",ET[i],\"  |    \",TAT[i],\"  |   \",WT[i],\"   |  \")\n",
    "print(\"Average Waiting Time: \",avg_WT)"
   ]
  },
  {
   "cell_type": "code",
   "execution_count": 9,
   "id": "ae21672f",
   "metadata": {},
   "outputs": [
    {
     "name": "stdout",
     "output_type": "stream",
     "text": [
      "Enter no. of processes: 3\n",
      "Enter burst time for P0: 5\n",
      "Enter arrival time for P0: 0\n",
      "Enter burst time for P1: 4\n",
      "Enter arrival time for P1: 1\n",
      "Enter burst time for P2: 2\n",
      "Enter arrival time for P2: 1\n"
     ]
    }
   ],
   "source": [
    "n = int(input(\"Enter no. of processes: \"))\n",
    "p=[]\n",
    "bt=[]\n",
    "at=[]\n",
    "for i in range(n):\n",
    "    a = \"P\" + str(i)\n",
    "    p.append(a)\n",
    "for i  in range(n):\n",
    "    b = int(input(\"Enter burst time for {}: \".format(p[i])))\n",
    "    bt.append(b)\n",
    "    ar = int(input(\"Enter arrival time for {}: \".format(p[i])))\n",
    "    at.append(ar)\n"
   ]
  },
  {
   "cell_type": "code",
   "execution_count": 18,
   "id": "db4ddb88",
   "metadata": {},
   "outputs": [
    {
     "name": "stdout",
     "output_type": "stream",
     "text": [
      "['P0', 'P1', 'P2']\n",
      "[5, 4, 2]\n",
      "[0, 1, 1]\n"
     ]
    }
   ],
   "source": [
    "print(p)\n",
    "print(bt)\n",
    "print(at)"
   ]
  },
  {
   "cell_type": "code",
   "execution_count": 25,
   "id": "8ae8baff",
   "metadata": {},
   "outputs": [
    {
     "name": "stdout",
     "output_type": "stream",
     "text": [
      "3\n",
      "    P1    |    0  |     2  |     2   |     2   |    0    |  \n",
      "    P2    |    5  |     3  |     5   |     0   |    -3    |  \n",
      "    P3    |    6  |     2  |     7   |     1   |    -1    |  \n"
     ]
    }
   ],
   "source": [
    "print(len(d))\n",
    "for i in range(n):\n",
    "      print(\"   \",d[i][0],\"   |   \",d[i][1][0],\" |    \",d[i][1][1],\" |    \",ET[i],\"  |    \",TAT[i],\"  |   \",WT[i],\"   |  \")"
   ]
  }
 ],
 "metadata": {
  "kernelspec": {
   "display_name": "Python 3 (ipykernel)",
   "language": "python",
   "name": "python3"
  },
  "language_info": {
   "codemirror_mode": {
    "name": "ipython",
    "version": 3
   },
   "file_extension": ".py",
   "mimetype": "text/x-python",
   "name": "python",
   "nbconvert_exporter": "python",
   "pygments_lexer": "ipython3",
   "version": "3.9.7"
  }
 },
 "nbformat": 4,
 "nbformat_minor": 5
}
