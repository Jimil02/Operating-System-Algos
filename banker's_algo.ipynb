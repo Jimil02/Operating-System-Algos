{
 "cells": [
  {
   "cell_type": "markdown",
   "id": "2281fca0",
   "metadata": {},
   "source": [
    "20BCE107\n",
    "Jimil Hiteshkumar Patel\n",
    "Operating System Assignment"
   ]
  },
  {
   "cell_type": "markdown",
   "id": "b85dad66",
   "metadata": {},
   "source": [
    "# Banker's Algorithm"
   ]
  },
  {
   "cell_type": "code",
   "execution_count": 21,
   "id": "4ace37d3",
   "metadata": {},
   "outputs": [
    {
     "name": "stdout",
     "output_type": "stream",
     "text": [
      "Enter no. of processes: 5\n",
      "Enter no. of resources: 4\n",
      "Enter total resource of A1: 13\n",
      "Enter total resource of A2: 13\n",
      "Enter total resource of A3: 9\n",
      "Enter total resource of A4: 13\n",
      "For P1: \n",
      "Enter max need for A1: 3\n",
      "Enter max need for A2: 2\n",
      "Enter max need for A3: 4\n",
      "Enter max need for A4: 2\n",
      "Enter current allocation for A1: 1\n",
      "Enter current allocation for A2: 0\n",
      "Enter current allocation for A3: 2\n",
      "Enter current allocation for A4: 0\n",
      "For P2: \n",
      "Enter max need for A1: 3\n",
      "Enter max need for A2: 5\n",
      "Enter max need for A3: 1\n",
      "Enter max need for A4: 2\n",
      "Enter current allocation for A1: 0\n",
      "Enter current allocation for A2: 3\n",
      "Enter current allocation for A3: 1\n",
      "Enter current allocation for A4: 2\n",
      "For P3: \n",
      "Enter max need for A1: 2\n",
      "Enter max need for A2: 7\n",
      "Enter max need for A3: 7\n",
      "Enter max need for A4: 5\n",
      "Enter current allocation for A1: 2\n",
      "Enter current allocation for A2: 4\n",
      "Enter current allocation for A3: 5\n",
      "Enter current allocation for A4: 1\n",
      "For P4: \n",
      "Enter max need for A1: 5\n",
      "Enter max need for A2: 5\n",
      "Enter max need for A3: 0\n",
      "Enter max need for A4: 8\n",
      "Enter current allocation for A1: 3\n",
      "Enter current allocation for A2: 0\n",
      "Enter current allocation for A3: 0\n",
      "Enter current allocation for A4: 6\n",
      "For P5: \n",
      "Enter max need for A1: 6\n",
      "Enter max need for A2: 2\n",
      "Enter max need for A3: 1\n",
      "Enter max need for A4: 4\n",
      "Enter current allocation for A1: 4\n",
      "Enter current allocation for A2: 2\n",
      "Enter current allocation for A3: 1\n",
      "Enter current allocation for A4: 3\n"
     ]
    }
   ],
   "source": [
    "np = int(input(\"Enter no. of processes: \"))\n",
    "nr = int(input(\"Enter no. of resources: \"))\n",
    "p = [] #process \n",
    "m = [] #max need\n",
    "c = [] #current allocation\n",
    "total = []\n",
    "for i in range(nr):\n",
    "    t = int(input(\"Enter total resource of A{}: \".format(i+1)))\n",
    "    total.append(t)\n",
    "for i in range(np):\n",
    "    P = \"P\"+str(i+1)\n",
    "    print(\"For P{}: \".format(i+1))\n",
    "    max_need = []\n",
    "    for j in range(nr):\n",
    "        #print(\"A\"+str(j+1))\n",
    "        mn = int(input(\"Enter max need for A{}: \".format(j+1)))\n",
    "        max_need.append(mn)\n",
    "    current_alloc = []\n",
    "    for j in range(nr):\n",
    "        #print(\"A\"+str(j+1))\n",
    "        ca = int(input(\"Enter current allocation for A{}: \".format(j+1)))\n",
    "        current_alloc.append(ca)\n",
    "    p.append(P)\n",
    "    m.append(max_need)\n",
    "    c.append(current_alloc)\n",
    "#print(p,m,c,total)"
   ]
  },
  {
   "cell_type": "code",
   "execution_count": 22,
   "id": "e259110b",
   "metadata": {},
   "outputs": [
    {
     "name": "stdout",
     "output_type": "stream",
     "text": [
      "Process\t\tMax_Need\t\tCurrent_Alloc\t\tRemaining_Need\n",
      "P1\t\t[3, 2, 4, 2]\t\t[1, 0, 2, 0]\t\t[2, 2, 2, 2]\n",
      "P2\t\t[3, 5, 1, 2]\t\t[0, 3, 1, 2]\t\t[3, 2, 0, 0]\n",
      "P3\t\t[2, 7, 7, 5]\t\t[2, 4, 5, 1]\t\t[0, 3, 2, 4]\n",
      "P4\t\t[5, 5, 0, 8]\t\t[3, 0, 0, 6]\t\t[2, 5, 0, 2]\n",
      "P5\t\t[6, 2, 1, 4]\t\t[4, 2, 1, 3]\t\t[2, 0, 0, 1]\n"
     ]
    }
   ],
   "source": [
    "r = [[0 for i in range(nr)] for i in range(np)] #remaining need\n",
    "for i in range(np):\n",
    "    for j in range(nr):\n",
    "        r[i][j] = m[i][j]-c[i][j]\n",
    "#print(r)\n",
    "print(\"Process\"+\"\\t\\t\"+\"Max_Need\"+\"\\t\\t\"+\"Current_Alloc\"+\"\\t\\t\"+\"Remaining_Need\")\n",
    "for i in range(np):\n",
    "    print(\"{}\".format(p[i])+\"\\t\\t\"+\"{}\".format(m[i])+\"\\t\\t\"+\"{}\".format(c[i])+\"\\t\\t\"+\"{}\".format(r[i]))"
   ]
  },
  {
   "cell_type": "code",
   "execution_count": 23,
   "id": "249d97b8",
   "metadata": {},
   "outputs": [
    {
     "name": "stdout",
     "output_type": "stream",
     "text": [
      "***************Sum of current allocation***************\n",
      "[10, 9, 9, 12]\n"
     ]
    }
   ],
   "source": [
    "print(\"***************Sum of current allocation***************\")\n",
    "ta = [0] * nr     #Initializing the allocated resources to 0 and finding the sum\n",
    "for i in range(np):\n",
    "    for j in range(nr):\n",
    "        ta[j] += c[i][j]\n",
    "print(ta)"
   ]
  },
  {
   "cell_type": "code",
   "execution_count": 24,
   "id": "2a85a26d",
   "metadata": {},
   "outputs": [
    {
     "name": "stdout",
     "output_type": "stream",
     "text": [
      "**********Current Available**********\n",
      "[3, 4, 0, 1]\n"
     ]
    }
   ],
   "source": [
    "print(\"**********Current Available**********\")\n",
    "available = []\n",
    "for i in range(nr):\n",
    "    available.append(total[i] - ta[i])\n",
    "print(available)"
   ]
  },
  {
   "cell_type": "code",
   "execution_count": 25,
   "id": "4bd5206a",
   "metadata": {},
   "outputs": [
    {
     "name": "stdout",
     "output_type": "stream",
     "text": [
      "P2 is running now.\n",
      "This process is currently now in a safe state.\n",
      "Current available resources: [3, 7, 1, 3]\n",
      "\n",
      "P4 is running now.\n",
      "This process is currently now in a safe state.\n",
      "Current available resources: [6, 7, 1, 9]\n",
      "\n",
      "P5 is running now.\n",
      "This process is currently now in a safe state.\n",
      "Current available resources: [10, 9, 2, 12]\n",
      "\n",
      "P1 is running now.\n",
      "This process is currently now in a safe state.\n",
      "Current available resources: [11, 9, 4, 12]\n",
      "\n",
      "P3 is running now.\n",
      "This process is currently now in a safe state.\n",
      "Current available resources: [13, 13, 9, 13]\n",
      "\n",
      "*********Safe Sequence*********\n",
      "\n",
      "P2--->P4--->P5--->P1--->P3\n"
     ]
    }
   ],
   "source": [
    "running = [True] * np    #Setting all the processes to running\n",
    "count = np\n",
    "safes = []\n",
    "safe = False                    #initially assuming unsafe state\n",
    "while count != 0:\n",
    "    for i in range(np):\n",
    "        if running[i]:\n",
    "            executing = True    #running and executing processes one by one\n",
    "            for j in range(nr):\n",
    "                if m[i][j] - c[i][j] > available[j]:\n",
    "                    executing = False       #if the requirement is not satisfied then\n",
    "                    break                   # stopping execution and going for next process\n",
    "            if executing:\n",
    "                print(f\"P{i + 1} is running now.\")\n",
    "                safes.append('P' + str(i+1))\n",
    "                running[i] = False\n",
    "                count -= 1\n",
    "                safe = True\n",
    "                for j in range(nr):\n",
    "                    available[j] += c[i][j]\n",
    "                break\n",
    "    if not safe:\n",
    "        print(\"The process is in an unsafe state.\")\n",
    "        break\n",
    "\n",
    "    print(\"This process is currently now in a safe state.\")\n",
    "    print(f\"Current available resources: {available}\\n\")\n",
    "    \n",
    "n = len(safes)\n",
    "if safe:\n",
    "    print(\"*********Safe Sequence*********\\n\")\n",
    "    for i in range(n-1):\n",
    "        print(safes[i], end=\"--->\")\n",
    "    print(safes[n-1])"
   ]
  },
  {
   "cell_type": "markdown",
   "id": "d3f99675",
   "metadata": {},
   "source": [
    "# First Come First Serve Process Scheduling"
   ]
  },
  {
   "cell_type": "code",
   "execution_count": 51,
   "id": "06146907",
   "metadata": {},
   "outputs": [
    {
     "name": "stdout",
     "output_type": "stream",
     "text": [
      "*********FIRST COME FIRST SERVE SCHEDULLING*********\n",
      "Enter number of processes : 5\n",
      "Enter arrival time of P1: 1\n",
      "Enter burst time of P1: 10\n",
      "Enter arrival time of P2: 0\n",
      "Enter burst time of P2: 1\n",
      "Enter arrival time of P3: 0\n",
      "Enter burst time of P3: 2\n",
      "Enter arrival time of P4: 3\n",
      "Enter burst time of P4: 1\n",
      "Enter arrival time of P5: 2\n",
      "Enter burst time of P5: 5\n",
      "Process | Arrival | Burst | Exit | Turn Around | Wait |\n",
      "    P2    |    0  |     1  |     1   |     1   |    0    |  \n",
      "    P3    |    0  |     2  |     3   |     3   |    1    |  \n",
      "    P1    |    1  |     10  |     13   |     12   |    2    |  \n",
      "    P5    |    2  |     5  |     18   |     16   |    11    |  \n",
      "    P4    |    3  |     1  |     19   |     16   |    15    |  \n",
      "Average Waiting Time:  5.8\n",
      "Average Turn Around Time:  9.6\n"
     ]
    }
   ],
   "source": [
    "print(\"*********FIRST COME FIRST SERVE SCHEDULLING*********\")\n",
    "n= int(input(\"Enter number of processes : \"))\n",
    "d = dict()\n",
    " \n",
    "for i in range(n):\n",
    "    key = \"P\"+str(i+1)\n",
    "    a = int(input(\"Enter arrival time of P\"+str(i+1)+\": \"))\n",
    "    b = int(input(\"Enter burst time of P\"+str(i+1)+\": \"))\n",
    "    l = []\n",
    "    l.append(a)\n",
    "    l.append(b)\n",
    "    d[key] = l\n",
    "#print(d)\n",
    "d = sorted(d.items(), key=lambda item: item[1][0])\n",
    "#print(d)\n",
    "ET = []\n",
    "for i in range(len(d)):\n",
    "    # first process\n",
    "    if(i==0 and d[i][1][0]==0):\n",
    "        ET.append(d[i][1][1])\n",
    "    elif(i==0 and d[i][1][0]!=0):\n",
    "        ET.append(d[i][1][1]+d[i][1][0])\n",
    "    # get prevET + newBT\n",
    "    else:\n",
    "        if(ET[i-1]>=d[i][1][0]):\n",
    "            ET.append(ET[i-1] + d[i][1][1])\n",
    "        else:\n",
    "            y=d[i][1][0]-ET[i-1]\n",
    "            ET.append(y+ET[i-1] + d[i][1][1])\n",
    "\n",
    "TAT = []\n",
    "for i in range(len(d)):\n",
    "    TAT.append(ET[i] - d[i][1][0])\n",
    "\n",
    "avg_TAT = 0\n",
    "for i in TAT:\n",
    "    avg_TAT +=i\n",
    "avg_TAT = (avg_TAT/n)\n",
    " \n",
    "WT = []\n",
    "for i in range(len(d)):\n",
    "    WT.append(TAT[i] - d[i][1][1])\n",
    " \n",
    "avg_WT = 0\n",
    "for i in WT:\n",
    "    avg_WT +=i\n",
    "avg_WT = (avg_WT/n)\n",
    " \n",
    "print(\"Process | Arrival | Burst | Exit | Turn Around | Wait |\")\n",
    "for i in range(n):\n",
    "      print(\"   \",d[i][0],\"   |   \",d[i][1][0],\" |    \",d[i][1][1],\" |    \",ET[i],\"  |    \",TAT[i],\"  |   \",WT[i],\"   |  \")\n",
    "print(\"Average Waiting Time: \",avg_WT)\n",
    "print(\"Average Turn Around Time: \",avg_TAT)"
   ]
  },
  {
   "cell_type": "code",
   "execution_count": 61,
   "id": "14c0c32d",
   "metadata": {},
   "outputs": [
    {
     "name": "stdout",
     "output_type": "stream",
     "text": [
      "*******Gantt Chart*******\n",
      "P2(0 to 1)\n",
      "P3(1 to 3)\n",
      "P1(3 to 13)\n",
      "P5(13 to 18)\n",
      "P4(18 to 19)\n"
     ]
    }
   ],
   "source": [
    "print(\"*******Gantt Chart*******\")\n",
    "print(\"{}\".format(d[0][0])+\"({} to {})\".format(d[0][1][0],ET[0]))\n",
    "for i in range(n-1):\n",
    "    print(\"{}\".format(d[i+1][0])+\"({} to {})\".format(ET[i],ET[i+1]))"
   ]
  }
 ],
 "metadata": {
  "kernelspec": {
   "display_name": "Python 3 (ipykernel)",
   "language": "python",
   "name": "python3"
  },
  "language_info": {
   "codemirror_mode": {
    "name": "ipython",
    "version": 3
   },
   "file_extension": ".py",
   "mimetype": "text/x-python",
   "name": "python",
   "nbconvert_exporter": "python",
   "pygments_lexer": "ipython3",
   "version": "3.9.7"
  }
 },
 "nbformat": 4,
 "nbformat_minor": 5
}
